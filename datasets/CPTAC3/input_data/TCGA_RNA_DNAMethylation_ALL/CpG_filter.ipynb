{
 "cells": [
  {
   "cell_type": "code",
   "execution_count": 1,
   "id": "0c1f3f94",
   "metadata": {},
   "outputs": [],
   "source": [
    "import pandas as pd\n",
    "import matplotlib.pyplot as plt\n",
    "\n",
    "cpg_sample_df = pd.read_csv('cpg_sample_df.csv')\n",
    "meth_df = pd.read_csv('../../output_data/DNAMethylation.csv')\n",
    "cols = list(cpg_sample_df['Sample'].values)\n",
    "\n",
    "meth_df = meth_df.replace(0, 0.001)\n",
    "meth_df = meth_df.replace(1.0, 0.999)\n"
   ]
  },
  {
   "cell_type": "code",
   "execution_count": 2,
   "id": "847e8ee7",
   "metadata": {},
   "outputs": [
    {
     "name": "stderr",
     "output_type": "stream",
     "text": [
      "/var/folders/gq/6ljhmvm1713fykdjqbl188pm0000gn/T/ipykernel_72664/889742584.py:2: RuntimeWarning: Mean of empty slice\n",
      "  mean_meth = np.nanmean(meth_df[cols].values, axis=1)\n"
     ]
    }
   ],
   "source": [
    "import numpy as np\n",
    "mean_meth = np.nanmean(meth_df[cols].values, axis=1)\n",
    "meth_df = meth_df[mean_meth > 0.05]\n",
    "mean_meth = np.nanmean(meth_df[cols].values, axis=1)\n"
   ]
  },
  {
   "cell_type": "code",
   "execution_count": 3,
   "id": "2a7822b0",
   "metadata": {},
   "outputs": [
    {
     "ename": "TypeError",
     "evalue": "'numpy.float64' object is not iterable",
     "output_type": "error",
     "traceback": [
      "\u001b[0;31m---------------------------------------------------------------------------\u001b[0m",
      "\u001b[0;31mTypeError\u001b[0m                                 Traceback (most recent call last)",
      "Cell \u001b[0;32mIn[3], line 9\u001b[0m\n\u001b[1;32m      7\u001b[0m \u001b[38;5;66;03m# Plot out the mean correlation values so we can choose a good filter.\u001b[39;00m\n\u001b[1;32m      8\u001b[0m plt\u001b[38;5;241m.\u001b[39mhist(mean_cor, bins\u001b[38;5;241m=\u001b[39m\u001b[38;5;241m20\u001b[39m)\n\u001b[0;32m----> 9\u001b[0m plt\u001b[38;5;241m.\u001b[39mtitle(\u001b[38;5;124mf\u001b[39m\u001b[38;5;124m'\u001b[39m\u001b[38;5;124mmin corr: \u001b[39m\u001b[38;5;132;01m{\u001b[39;00m\u001b[38;5;28;43mmin\u001b[39;49m\u001b[43m(\u001b[49m\u001b[43mnp\u001b[49m\u001b[38;5;241;43m.\u001b[39;49m\u001b[43mmin\u001b[49m\u001b[43m(\u001b[49m\u001b[43mcorr\u001b[49m\u001b[43m)\u001b[49m\u001b[43m)\u001b[49m\u001b[38;5;132;01m}\u001b[39;00m\u001b[38;5;124m'\u001b[39m)\n\u001b[1;32m     11\u001b[0m \u001b[38;5;66;03m# Filter the shitty patients\u001b[39;00m\n\u001b[1;32m     12\u001b[0m corr_sorted \u001b[38;5;241m=\u001b[39m corr\u001b[38;5;241m.\u001b[39msort_values(by\u001b[38;5;241m=\u001b[39m[\u001b[38;5;124m'\u001b[39m\u001b[38;5;124mmean_corr\u001b[39m\u001b[38;5;124m'\u001b[39m])\n",
      "\u001b[0;31mTypeError\u001b[0m: 'numpy.float64' object is not iterable"
     ]
    },
    {
     "data": {
      "image/png": "[encoded data removed]",
      "text/plain": [
       "<Figure size 640x480 with 1 Axes>"
      ]
     },
     "metadata": {},
     "output_type": "display_data"
    }
   ],
   "source": [
    "meth_df = meth_df[mean_meth < 0.95]\n",
    "corr = meth_df[cols].corr()\n",
    "# Print out the minimum correlation:\n",
    "mean_cor = np.nanmean(corr, axis=1)\n",
    "corr['mean_corr'] = mean_cor\n",
    "corr.sort_values(by=['mean_corr'])\n",
    "# Plot out the mean correlation values so we can choose a good filter.\n",
    "plt.hist(mean_cor, bins=20)\n",
    "plt.title(f'min corr: {min(np.min(corr))}')\n"
   ]
  },
  {
   "cell_type": "code",
   "execution_count": 11,
   "id": "6e50e71a",
   "metadata": {},
   "outputs": [
    {
     "name": "stdout",
     "output_type": "stream",
     "text": [
      "C3N.01719_Tumor_CpG_PancreaticDuctalAdenocarcinoma_d97c51cd.deac.42a6.9fdf.3941fe370ecc\n",
      "C3N.00388_Tumor_CpG_UterineCorpusEndometrialCarcinoma_7cd78ad0.fd44.4bf1.8700.e4cf732fa1b6\n",
      "C3N.03426_Tumor_CpG_PancreaticDuctalAdenocarcinoma_d09f9fcc.2b8b.436a.8ffd.9d7455c9b1ab\n",
      "C3N.02971_Tumor_CpG_PancreaticDuctalAdenocarcinoma_977dd7b9.cfb7.42f2.b554.e43c23b9f3e9\n",
      "C3N.04283_Tumor_CpG_PancreaticDuctalAdenocarcinoma_de177c77.a468.4813.bea8.d9dcfc71756e\n",
      "C3N.03039_Tumor_CpG_PancreaticDuctalAdenocarcinoma_c99d1277.232f.429b.a454.60ad604d4e34\n",
      "C3L.00913_Normal_CpG_LungAdenocarcinoma_5ff19da1.fba3.413f.9313.98b16729f3f0\n",
      "C3N.03439_Tumor_CpG_PancreaticDuctalAdenocarcinoma_8b590f21.dca8.40f4.adc8.790892f151ee\n",
      "C3N.03884_Tumor_CpG_PancreaticDuctalAdenocarcinoma_0965e7fc.4993.46b0.bbba.7fb1a20dd3af\n",
      "C3N.02579_Tumor_CpG_PancreaticDuctalAdenocarcinoma_1828851d.743b.4169.bcc9.e1e1ffc3061e\n",
      "C3N.00709_Tumor_CpG_PancreaticDuctalAdenocarcinoma_40b2e99d.d4c8.4abc.82b1.6d7c76f04a3f\n",
      "C3L.01889_Tumor_CpG_LungAdenocarcinoma_d2d56084.4fda.4b08.9f0e.cb82fcec3dd4\n",
      "C3N.02589_Tumor_CpG_PancreaticDuctalAdenocarcinoma_863dea31.8a27.415b.af5c.39ec671b3b4b\n",
      "C3L.04027_Tumor_CpG_PancreaticDuctalAdenocarcinoma_8b0fffa5.cd91.419f.84c3.ba630e111a77\n",
      "C3N.02010_Tumor_CpG_PancreaticDuctalAdenocarcinoma_ddaadd89.63c0.4f30.8691.40b60ab97bab\n",
      "C3L.00987_Tumor_CpG_HeadandNeckSquamousCellCarcinoma_716d95e8.890d.411c.8fc1.ea2bbbea853d\n",
      "C3L.02358_Tumor_CpG_LungSquamousCellCarcinoma_1cf41ff5.c691.4022.aef3.8dcc4a3af1b5\n",
      "C3N.03430_Tumor_CpG_PancreaticDuctalAdenocarcinoma_5b4eab99.ed6d.4932.8e9b.ce77ca99c252\n",
      "C3L.01885_Tumor_CpG_ClearCellRenalCellCarcinoma_dc2116ee.36db.4872.a1fc.11634d0a90cc\n",
      "C3N.01021_Tumor_CpG_LungAdenocarcinoma_a6469e72.62e4.483f.8bdb.8747bd945a10\n",
      "C3N.00223_Tumor_CpG_LungAdenocarcinoma_0ca75165.84b3.4219.9fca.bfe2179e1710\n",
      "C3L.01882_Tumor_CpG_ClearCellRenalCellCarcinoma_ee047d1d.90fb.4811.b6d4.17ddf192e6f5\n",
      "C3N.04282_Tumor_CpG_PancreaticDuctalAdenocarcinoma_25c852a1.977d.42f5.9b2d.be9d4ba34743\n",
      "C3N.01415_Tumor_CpG_LungAdenocarcinoma_803d5c98.6159.4f84.8a8b.fe40be310d19\n",
      "C3L.04473_Tumor_CpG_PancreaticDuctalAdenocarcinoma_3b53a995.36a9.4422.b9b8.e879384230d9\n",
      "C3L.01281_Tumor_CpG_ClearCellRenalCellCarcinoma_f5063450.84fc.451f.a52e.e94e66dffa45\n",
      "C3N.03780_Tumor_CpG_PancreaticDuctalAdenocarcinoma_a6518b1f.144b.482c.b405.bb801073230d\n",
      "C3N.01413_Tumor_CpG_LungAdenocarcinoma_9ce0bc77.e8b4.449e.9c90.eb3528419569\n",
      "C3N.04119_Tumor_CpG_PancreaticDuctalAdenocarcinoma_1300b3d1.95f8.425c.8ce2.a8642dc18c9f\n",
      "C3L.01862_Tumor_CpG_LungAdenocarcinoma_55208812.3c93.457c.a3cc.40e5299e61ea\n",
      "C3N.03665_Tumor_CpG_PancreaticDuctalAdenocarcinoma_a8be73d4.788f.4613.a3d0.2f9d727a2819\n",
      "C3N.02998_Tumor_CpG_PancreaticDuctalAdenocarcinoma_991615f9.0b25.4c0f.b0a4.dbccc2d3e976\n",
      "C3N.00555_Tumor_CpG_LungSquamousCellCarcinoma_f4c4189f.7028.43f0.88a4.afa936fdf5e3\n",
      "C3L.01051_Tumor_CpG_PancreaticDuctalAdenocarcinoma_7dac2157.9d63.446c.ada9.4991ef2fa5dd\n",
      "C3N.00293_Normal_CpG_LungAdenocarcinoma_a6b2bf12.a848.4263.8bdd.48300c3071ae\n",
      "C3N.02145_Normal_CpG_LungAdenocarcinoma_54390ad0.1dad.43cf.8370.e025361de011\n",
      "C3N.00203_Normal_CpG_LungAdenocarcinoma_afe2f23a.416b.4193.ad8b.0ff3eeb0d224\n",
      "C3N.00738_Normal_CpG_LungAdenocarcinoma_e1790fab.9ba1.4edc.9609.0e2063045d8c\n",
      "C3N.01016_Normal_CpG_LungAdenocarcinoma_f76ca73e.dc79.405e.a6c0.be67cbe8bd63\n",
      "C3L.01683_Normal_CpG_LungAdenocarcinoma_b2bc37a0.8aae.4324.9030.3260c1602262\n",
      "C3N.00552_Normal_CpG_LungAdenocarcinoma_5030bd03.3b5f.40d9.bf9d.022e6a147adb\n",
      "C3N.02089_Normal_CpG_LungAdenocarcinoma_949647a9.c53a.4386.9a1f.8373166f68d8\n",
      "C3L.01924_Normal_CpG_LungAdenocarcinoma_c76b8ee2.8fdd.43f0.9403.71d4db4c8893\n",
      "C3N.01025_Tumor_CpG_LungSquamousCellCarcinoma_79bf9552.b02e.4c54.896f.6a61598fda58\n",
      "C3N.01411_Tumor_CpG_LungSquamousCellCarcinoma_7809611b.7656.49ee.b930.233db386a095\n",
      "C3N.02284_Tumor_CpG_LungSquamousCellCarcinoma_79214e2c.c663.4175.9b37.8a1973443bba\n",
      "C3L.00361_Tumor_CpG_UterineCorpusEndometrialCarcinoma_85f60341.ac02.44e2.9746.ce970f13cb2c\n",
      "C3L.01285_Tumor_CpG_LungSquamousCellCarcinoma_7d6c703e.f83b.43a5.a676.fbf314f5dbe9\n",
      "C3L.01304_Tumor_CpG_UterineCorpusEndometrialCarcinoma_44ab6e73.bb4d.48e0.b516.f83c9c8ed496\n"
     ]
    }
   ],
   "source": [
    "\n",
    "# Filter the shitty patients\n",
    "corr_sorted = corr.sort_values(by=['mean_corr'])\n",
    "corr_sorted = corr_sorted[corr_sorted['mean_corr'] < 0.7]\n",
    "\n",
    "cols_to_omit = [c for c in corr_sorted.index]\n",
    "print('\\n'.join(cols_to_omit))\n",
    "cols_to_keep = [c for c in meth_df.columns if c not in cols_to_omit]\n",
    "cpg_filtered = meth_df[cols_to_keep]\n",
    "\n",
    "# Filter sample df to only include those samples\n",
    "sample_df = cpg_sample_df[cpg_sample_df['Sample'].isin(cols_to_keep)]"
   ]
  },
  {
   "cell_type": "markdown",
   "id": "c40cc46f",
   "metadata": {},
   "source": [
    "# Now we want to check each cancer has a separation between tumour and normal and all cancers also have a decent separation"
   ]
  },
  {
   "cell_type": "code",
   "execution_count": null,
   "id": "e3f7a818",
   "metadata": {},
   "outputs": [],
   "source": [
    "# Drop CpGs with > 50% missing values\n",
    "cpg_filtered = cpg_filtered[cpg_filtered.isnull().sum(axis=1) < len(meth_df.values[0])/2]\n",
    "\n",
    "# Fill NAs with 0's\n",
    "df = cpg_filtered.fillna(0)\n",
    "\n",
    "cols = list(sample_df['Sample'].values)\n",
    "vals = df[cols].values.T\n",
    "# If there is a missing CpG replace it with the mean value for that CpG\n"
   ]
  },
  {
   "cell_type": "code",
   "execution_count": null,
   "id": "ae1e91a3",
   "metadata": {},
   "outputs": [],
   "source": [
    "import pandas as pd\n",
    "from sciviso import *\n",
    "from sciutil import SciUtil\n",
    "import seaborn as sns\n",
    "# Have a look at clustering each of these\n",
    "from sklearn.decomposition import PCA\n",
    "pca = PCA(n_components=2)\n",
    "pca_values = pca.fit_transform(vals)\n",
    "var_ratio = pca.fit(vals).explained_variance_ratio_\n",
    "plt.rcParams['figure.figsize'] = [4, 4]\n",
    "vis_df = pd.DataFrame()\n",
    "vis_df['PC_1'] = pca_values[:, 0]\n",
    "vis_df['PC_2'] = pca_values[:, 1]\n",
    "vis_df['Stage'] = sample_df['TumorStage_x'].values\n",
    "vis_df['Disease'] = sample_df['Disease'].values\n",
    "vis_df['CondID'] = sample_df['CondID'].values\n"
   ]
  },
  {
   "cell_type": "code",
   "execution_count": null,
   "id": "b1c64f51",
   "metadata": {},
   "outputs": [],
   "source": [
    "\n",
    "sns.scatterplot(vis_df, x='PC_1', y='PC_2', hue='Stage', s=100, alpha=0.5)\n",
    "plt.show()"
   ]
  },
  {
   "cell_type": "code",
   "execution_count": null,
   "id": "90670b8f",
   "metadata": {},
   "outputs": [],
   "source": [
    "\n",
    "sns.scatterplot(vis_df, x='PC_1', y='PC_2', hue='CondID', s=100, alpha=0.5)\n",
    "plt.show()"
   ]
  },
  {
   "cell_type": "code",
   "execution_count": null,
   "id": "f88f179f",
   "metadata": {},
   "outputs": [],
   "source": [
    "\n",
    "sns.scatterplot(vis_df, x='PC_1', y='PC_2', hue='Disease', s=100, alpha=0.5)\n",
    "plt.show()"
   ]
  },
  {
   "cell_type": "code",
   "execution_count": null,
   "id": "726de771",
   "metadata": {},
   "outputs": [],
   "source": []
  }
 ],
 "metadata": {
  "kernelspec": {
   "display_name": "Python 3 (ipykernel)",
   "language": "python",
   "name": "python3"
  },
  "language_info": {
   "codemirror_mode": {
    "name": "ipython",
    "version": 3
   },
   "file_extension": ".py",
   "mimetype": "text/x-python",
   "name": "python",
   "nbconvert_exporter": "python",
   "pygments_lexer": "ipython3",
   "version": "3.10.12"
  }
 },
 "nbformat": 4,
 "nbformat_minor": 5
}
