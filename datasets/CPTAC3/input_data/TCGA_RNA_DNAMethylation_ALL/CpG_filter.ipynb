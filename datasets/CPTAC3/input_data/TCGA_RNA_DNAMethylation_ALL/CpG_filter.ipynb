{
 "cells": [
  {
   "cell_type": "code",
   "execution_count": 1,
   "id": "97530b71",
   "metadata": {},
   "outputs": [
    {
     "ename": "NameError",
     "evalue": "name 'np' is not defined",
     "output_type": "error",
     "traceback": [
      "\u001b[0;31m---------------------------------------------------------------------------\u001b[0m",
      "\u001b[0;31mNameError\u001b[0m                                 Traceback (most recent call last)",
      "Cell \u001b[0;32mIn[1], line 10\u001b[0m\n\u001b[1;32m      8\u001b[0m meth_df \u001b[38;5;241m=\u001b[39m meth_df\u001b[38;5;241m.\u001b[39mreplace(\u001b[38;5;241m0\u001b[39m, \u001b[38;5;241m0.001\u001b[39m)\n\u001b[1;32m      9\u001b[0m meth_df \u001b[38;5;241m=\u001b[39m meth_df\u001b[38;5;241m.\u001b[39mreplace(\u001b[38;5;241m1.0\u001b[39m, \u001b[38;5;241m0.999\u001b[39m)\n\u001b[0;32m---> 10\u001b[0m mean_meth \u001b[38;5;241m=\u001b[39m \u001b[43mnp\u001b[49m\u001b[38;5;241m.\u001b[39mnanmean(meth_df[cols]\u001b[38;5;241m.\u001b[39mvalues, axis\u001b[38;5;241m=\u001b[39m\u001b[38;5;241m1\u001b[39m)\n\u001b[1;32m     11\u001b[0m meth_df \u001b[38;5;241m=\u001b[39m meth_df[mean_meth \u001b[38;5;241m>\u001b[39m \u001b[38;5;241m0.05\u001b[39m]\n\u001b[1;32m     12\u001b[0m mean_meth \u001b[38;5;241m=\u001b[39m np\u001b[38;5;241m.\u001b[39mnanmean(meth_df[cols]\u001b[38;5;241m.\u001b[39mvalues, axis\u001b[38;5;241m=\u001b[39m\u001b[38;5;241m1\u001b[39m)\n",
      "\u001b[0;31mNameError\u001b[0m: name 'np' is not defined"
     ]
    }
   ],
   "source": [
    "import pandas as pd\n",
    "import matplotlib.pyplot as plt\n",
    "\n",
    "cpg_sample_df = pd.read_csv('cpg_sample_df.csv')\n",
    "meth_df = pd.read_csv('../../output_data/DNAMethylation.csv')\n",
    "cols = list(cpg_sample_df['Sample'].values)\n",
    "\n",
    "meth_df = meth_df.replace(0, 0.001)\n",
    "meth_df = meth_df.replace(1.0, 0.999)\n"
   ]
  },
  {
   "cell_type": "code",
   "execution_count": 2,
   "id": "5183f24f",
   "metadata": {},
   "outputs": [
    {
     "name": "stderr",
     "output_type": "stream",
     "text": [
      "/var/folders/gq/6ljhmvm1713fykdjqbl188pm0000gn/T/ipykernel_69740/78074593.py:2: RuntimeWarning: Mean of empty slice\n",
      "  mean_meth = np.nanmean(meth_df[cols].values, axis=1)\n"
     ]
    },
    {
     "ename": "NameError",
     "evalue": "name 'mean_cor' is not defined",
     "output_type": "error",
     "traceback": [
      "\u001b[0;31m---------------------------------------------------------------------------\u001b[0m",
      "\u001b[0;31mNameError\u001b[0m                                 Traceback (most recent call last)",
      "Cell \u001b[0;32mIn[2], line 5\u001b[0m\n\u001b[1;32m      3\u001b[0m meth_df \u001b[38;5;241m=\u001b[39m meth_df[mean_meth \u001b[38;5;241m>\u001b[39m \u001b[38;5;241m0.05\u001b[39m]\n\u001b[1;32m      4\u001b[0m mean_meth \u001b[38;5;241m=\u001b[39m np\u001b[38;5;241m.\u001b[39mnanmean(meth_df[cols]\u001b[38;5;241m.\u001b[39mvalues, axis\u001b[38;5;241m=\u001b[39m\u001b[38;5;241m1\u001b[39m)\n\u001b[0;32m----> 5\u001b[0m meth_df \u001b[38;5;241m=\u001b[39m meth_df[\u001b[43mmean_cor\u001b[49m \u001b[38;5;241m<\u001b[39m \u001b[38;5;241m0.95\u001b[39m]\n\u001b[1;32m      6\u001b[0m corr \u001b[38;5;241m=\u001b[39m meth_df[cols]\u001b[38;5;241m.\u001b[39mcorr()\n\u001b[1;32m      7\u001b[0m \u001b[38;5;66;03m# Print out the minimum correlation:\u001b[39;00m\n",
      "\u001b[0;31mNameError\u001b[0m: name 'mean_cor' is not defined"
     ]
    }
   ],
   "source": [
    "import numpy as np\n",
    "mean_meth = np.nanmean(meth_df[cols].values, axis=1)\n",
    "meth_df = meth_df[mean_meth > 0.05]\n",
    "mean_meth = np.nanmean(meth_df[cols].values, axis=1)\n"
   ]
  },
  {
   "cell_type": "code",
   "execution_count": null,
   "id": "be8adc4e",
   "metadata": {},
   "outputs": [],
   "source": [
    "meth_df = meth_df[mean_meth < 0.95]\n",
    "corr = meth_df[cols].corr()\n",
    "# Print out the minimum correlation:\n",
    "mean_cor = np.nanmean(corr, axis=1)\n",
    "corr['mean_corr'] = mean_cor\n",
    "corr.sort_values(by=['mean_corr'])\n",
    "# Plot out the mean correlation values so we can choose a good filter.\n",
    "plt.hist(mean_cor, bins=20)\n",
    "plt.title(f'min corr: {min(np.min(corr))}')\n",
    "\n",
    "# Filter the shitty patients\n",
    "corr_sorted = corr.sort_values(by=['mean_corr'])\n",
    "corr_sorted = corr_sorted[corr_sorted['mean_corr'] < 0.5]\n",
    "u.dp([len(corr_sorted), 'patients with avg. correlations less than 50%. Filtering out these samples, and printing cases.'])\n",
    "\n",
    "cols_to_omit = [c for c in corr_sorted.index]\n",
    "print('\\n'.join(cols_to_omit))\n",
    "cols_to_keep = [c for c in meth_df.columns if c not in cols_to_omit]\n",
    "cpg_filtered = meth_df[cols_to_keep]\n",
    "\n",
    "# Fill NAs with 0's\n",
    "cpg_filtered = cpg_filtered.fillna(0)\n",
    "# Filter sample df to only include those samples\n",
    "sample_df = cpg_sample_df[cpg_sample_df['Sample'].isin(cols_to_keep)]"
   ]
  },
  {
   "cell_type": "markdown",
   "id": "ae10bce2",
   "metadata": {},
   "source": [
    "# Now we want to check each cancer has a separation between tumour and normal and all cancers also have a decent separation"
   ]
  },
  {
   "cell_type": "code",
   "execution_count": null,
   "id": "46f39fb2",
   "metadata": {},
   "outputs": [],
   "source": [
    "# Drop CpGs with > 50% missing values\n",
    "df = meth_df[meth_df.isnull().sum(axis=1) < len(meth_df.values[0])/2]\n",
    "cols = list(sample_df['Sample'].values)\n",
    "vals = df[cols].values.T\n",
    "# If there is a missing CpG replace it with the mean value for that CpG\n",
    "\n",
    "pca = PCA(n_components=2)\n",
    "pca_values = pca.fit_transform(vals)\n",
    "var_ratio = pca.fit(vals).explained_variance_ratio_\n",
    "plt.rcParams['figure.figsize'] = [4, 4]\n",
    "vis_df = pd.DataFrame()\n",
    "vis_df['PC_1'] = pca_values[:, 0]\n",
    "vis_df['PC_2'] = pca_values[:, 1]\n",
    "vis_df['Stage'] = sample_df['Stage'].values\n",
    "vis_df['Disease'] = sample_df['Disease'].values\n",
    "vis_df['CondID'] = sample_df['CondID'].values\n",
    "\n",
    "sns.scatter(vis_df, 'PC_1', 'PC_2', hue=Stage, s=100, alpha=0.5)\n",
    "plt.show()"
   ]
  }
 ],
 "metadata": {
  "kernelspec": {
   "display_name": "Python 3 (ipykernel)",
   "language": "python",
   "name": "python3"
  },
  "language_info": {
   "codemirror_mode": {
    "name": "ipython",
    "version": 3
   },
   "file_extension": ".py",
   "mimetype": "text/x-python",
   "name": "python",
   "nbconvert_exporter": "python",
   "pygments_lexer": "ipython3",
   "version": "3.10.12"
  }
 },
 "nbformat": 4,
 "nbformat_minor": 5
}
